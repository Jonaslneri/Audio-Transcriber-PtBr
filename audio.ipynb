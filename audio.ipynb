{
    "cells": [
        {
            "cell_type": "code",
            "execution_count": null,
            "source": [
                "import speech_recognition as sr\r\n",
                "import pydub\r\n",
                "from pydub import AudioSegment\r\n",
                "from pydub.utils import make_chunks\r\n",
                "import matplotlib.pyplot as plt\r\n",
                "from wordcloud import WordCloud\r\n",
                "import os"
            ],
            "outputs": [],
            "metadata": {}
        },
        {
            "cell_type": "code",
            "execution_count": null,
            "source": [
                "os.getcwd()"
            ],
            "outputs": [],
            "metadata": {}
        },
        {
            "cell_type": "code",
            "execution_count": null,
            "source": [
                "os.listdir(os.getcwd())"
            ],
            "outputs": [],
            "metadata": {}
        },
        {
            "cell_type": "code",
            "execution_count": null,
            "source": [
                "audio_mp3 = 'audio.mp3'\r\n",
                "audio_wav = 'audio.wav'"
            ],
            "outputs": [],
            "metadata": {}
        },
        {
            "cell_type": "code",
            "execution_count": null,
            "source": [
                "sound = AudioSegment.from_mp3(audio_mp3)\r\n",
                "sound.export(audio_wav, format='wav')"
            ],
            "outputs": [],
            "metadata": {}
        },
        {
            "cell_type": "code",
            "execution_count": null,
            "source": [
                "audio = AudioSegment.from_file(audio_wav, 'wav')"
            ],
            "outputs": [],
            "metadata": {}
        },
        {
            "cell_type": "code",
            "execution_count": null,
            "source": [
                "tamanho = 10000"
            ],
            "outputs": [],
            "metadata": {}
        },
        {
            "cell_type": "code",
            "execution_count": null,
            "source": [
                "partes = make_chunks (audio, tamanho) \r\n",
                "partes_audio =[]\r\n",
                "for i, parte in enumerate(partes):\r\n",
                "    parte_name = 'audio{0}.wav'.format(i)\r\n",
                "    partes_audio.append(parte_name)\r\n",
                "    parte.export(parte_name, format='wav')"
            ],
            "outputs": [],
            "metadata": {}
        },
        {
            "cell_type": "code",
            "execution_count": null,
            "source": [
                "def transcreve_audio(nome_audio):\r\n",
                "  # Selecione o audio para reconhecimento\r\n",
                "  r = sr.Recognizer()\r\n",
                "  with sr.AudioFile(nome_audio) as source:\r\n",
                "    audio = r.record(source)  # leitura do arquivo de audio\r\n",
                "\r\n",
                "  # Reconhecimento usando o Google Speech Recognition\r\n",
                "  try:\r\n",
                "    print('Detectado: ' + r.recognize_google(audio,language='pt-BR'))\r\n",
                "    texto = r.recognize_google(audio,language='pt-BR')\r\n",
                "  except sr.UnknownValueError:\r\n",
                "    print('[PARTE NÃO COMPREENSÍVEL]')\r\n",
                "    texto = ''\r\n",
                "  except sr.RequestError as e:\r\n",
                "    print('Erro ao solicitar resultados; {0}'.format(e))\r\n",
                "    texto = ''\r\n",
                "  return texto"
            ],
            "outputs": [],
            "metadata": {}
        },
        {
            "cell_type": "code",
            "execution_count": null,
            "source": [
                "texto = ''\r\n",
                "for parte in partes_audio:\r\n",
                "  texto = texto + ' ' + transcreve_audio(parte)"
            ],
            "outputs": [],
            "metadata": {}
        },
        {
            "cell_type": "code",
            "execution_count": null,
            "source": [
                "texto"
            ],
            "outputs": [],
            "metadata": {}
        },
        {
            "cell_type": "code",
            "execution_count": null,
            "source": [],
            "outputs": [],
            "metadata": {}
        }
    ],
    "metadata": {
        "orig_nbformat": 4,
        "language_info": {
            "name": "python",
            "version": "3.8.5",
            "mimetype": "text/x-python",
            "codemirror_mode": {
                "name": "ipython",
                "version": 3
            },
            "pygments_lexer": "ipython3",
            "nbconvert_exporter": "python",
            "file_extension": ".py"
        },
        "kernelspec": {
            "name": "python3",
            "display_name": "Python 3.8.5 64-bit ('base': conda)"
        },
        "interpreter": {
            "hash": "b3ba2566441a7c06988d0923437866b63cedc61552a5af99d1f4fb67d367b25f"
        }
    },
    "nbformat": 4,
    "nbformat_minor": 2
}